{
 "cells": [
  {
   "cell_type": "code",
   "execution_count": 1,
   "id": "5b3ac1f3",
   "metadata": {},
   "outputs": [],
   "source": [
    "import os"
   ]
  },
  {
   "cell_type": "code",
   "execution_count": 2,
   "id": "c09adeb2",
   "metadata": {},
   "outputs": [],
   "source": [
    "import pandas as pd\n",
    "import numpy as np\n",
    "import matplotlib.pyplot as plt\n",
    "import seaborn as sns\n",
    "import math"
   ]
  },
  {
   "cell_type": "code",
   "execution_count": 3,
   "id": "8af686f6",
   "metadata": {},
   "outputs": [],
   "source": [
    "data = pd.ExcelFile(\"Challenge 20_Dataset.xlsx\")"
   ]
  },
  {
   "cell_type": "code",
   "execution_count": 4,
   "id": "47cd514e",
   "metadata": {},
   "outputs": [
    {
     "name": "stdout",
     "output_type": "stream",
     "text": [
      "Xlsx sheet names\n",
      "['Actual Production', 'Production&Sales Forecast', 'Sales Orders', 'Finished Goods Inventory', 'Products', 'Machines']\n"
     ]
    }
   ],
   "source": [
    "sheet_names = data.sheet_names\n",
    "print(f\"Xlsx sheet names\\n{sheet_names}\")"
   ]
  },
  {
   "cell_type": "code",
   "execution_count": 5,
   "id": "dfd15531",
   "metadata": {},
   "outputs": [
    {
     "data": {
      "text/html": [
       "<div>\n",
       "<style scoped>\n",
       "    .dataframe tbody tr th:only-of-type {\n",
       "        vertical-align: middle;\n",
       "    }\n",
       "\n",
       "    .dataframe tbody tr th {\n",
       "        vertical-align: top;\n",
       "    }\n",
       "\n",
       "    .dataframe thead th {\n",
       "        text-align: right;\n",
       "    }\n",
       "</style>\n",
       "<table border=\"1\" class=\"dataframe\">\n",
       "  <thead>\n",
       "    <tr style=\"text-align: right;\">\n",
       "      <th></th>\n",
       "      <th>Date</th>\n",
       "      <th>Machine</th>\n",
       "      <th>Product</th>\n",
       "      <th>Quantity</th>\n",
       "      <th>Shift</th>\n",
       "    </tr>\n",
       "  </thead>\n",
       "  <tbody>\n",
       "    <tr>\n",
       "      <th>0</th>\n",
       "      <td>2020-01-02</td>\n",
       "      <td>F-12</td>\n",
       "      <td>Product 1</td>\n",
       "      <td>132</td>\n",
       "      <td>Shift#2</td>\n",
       "    </tr>\n",
       "    <tr>\n",
       "      <th>1</th>\n",
       "      <td>2020-01-16</td>\n",
       "      <td>F-12</td>\n",
       "      <td>Product 1</td>\n",
       "      <td>216</td>\n",
       "      <td>Shift#2</td>\n",
       "    </tr>\n",
       "    <tr>\n",
       "      <th>2</th>\n",
       "      <td>2020-01-17</td>\n",
       "      <td>F-12</td>\n",
       "      <td>Product 1</td>\n",
       "      <td>348</td>\n",
       "      <td>Shift#1</td>\n",
       "    </tr>\n",
       "    <tr>\n",
       "      <th>3</th>\n",
       "      <td>2020-01-31</td>\n",
       "      <td>F-12</td>\n",
       "      <td>Product 1</td>\n",
       "      <td>72</td>\n",
       "      <td>Shift#2</td>\n",
       "    </tr>\n",
       "    <tr>\n",
       "      <th>4</th>\n",
       "      <td>2020-02-02</td>\n",
       "      <td>F-12</td>\n",
       "      <td>Product 1</td>\n",
       "      <td>324</td>\n",
       "      <td>Shift#2</td>\n",
       "    </tr>\n",
       "  </tbody>\n",
       "</table>\n",
       "</div>"
      ],
      "text/plain": [
       "        Date Machine    Product  Quantity    Shift\n",
       "0 2020-01-02    F-12  Product 1       132  Shift#2\n",
       "1 2020-01-16    F-12  Product 1       216  Shift#2\n",
       "2 2020-01-17    F-12  Product 1       348  Shift#1\n",
       "3 2020-01-31    F-12  Product 1        72  Shift#2\n",
       "4 2020-02-02    F-12  Product 1       324  Shift#2"
      ]
     },
     "execution_count": 5,
     "metadata": {},
     "output_type": "execute_result"
    }
   ],
   "source": [
    "ActualProduction = pd.read_excel(data, sheet_name=sheet_names[0])\n",
    "ActualProduction.head()"
   ]
  },
  {
   "cell_type": "code",
   "execution_count": 6,
   "id": "c99d3a03",
   "metadata": {},
   "outputs": [
    {
     "name": "stdout",
     "output_type": "stream",
     "text": [
      "Index(['Date', 'Machine', 'Product', 'Quantity', 'Shift'], dtype='object')\n",
      "(15655, 5)\n"
     ]
    }
   ],
   "source": [
    "print(ActualProduction.columns)\n",
    "print(ActualProduction.shape)"
   ]
  },
  {
   "cell_type": "code",
   "execution_count": 7,
   "id": "ce92ed4c",
   "metadata": {},
   "outputs": [
    {
     "data": {
      "text/plain": [
       "Date        datetime64[ns]\n",
       "Machine             object\n",
       "Product             object\n",
       "Quantity             int64\n",
       "Shift               object\n",
       "dtype: object"
      ]
     },
     "execution_count": 7,
     "metadata": {},
     "output_type": "execute_result"
    }
   ],
   "source": [
    "ActualProduction.dtypes"
   ]
  },
  {
   "cell_type": "code",
   "execution_count": 8,
   "id": "5be9ed85",
   "metadata": {},
   "outputs": [
    {
     "data": {
      "text/html": [
       "<div>\n",
       "<style scoped>\n",
       "    .dataframe tbody tr th:only-of-type {\n",
       "        vertical-align: middle;\n",
       "    }\n",
       "\n",
       "    .dataframe tbody tr th {\n",
       "        vertical-align: top;\n",
       "    }\n",
       "\n",
       "    .dataframe thead th {\n",
       "        text-align: right;\n",
       "    }\n",
       "</style>\n",
       "<table border=\"1\" class=\"dataframe\">\n",
       "  <thead>\n",
       "    <tr style=\"text-align: right;\">\n",
       "      <th></th>\n",
       "      <th>Date</th>\n",
       "      <th>Quantity</th>\n",
       "    </tr>\n",
       "  </thead>\n",
       "  <tbody>\n",
       "    <tr>\n",
       "      <th>count</th>\n",
       "      <td>15655</td>\n",
       "      <td>15655.000000</td>\n",
       "    </tr>\n",
       "    <tr>\n",
       "      <th>mean</th>\n",
       "      <td>2021-04-18 15:25:37.732353792</td>\n",
       "      <td>225.839923</td>\n",
       "    </tr>\n",
       "    <tr>\n",
       "      <th>min</th>\n",
       "      <td>2020-01-02 00:00:00</td>\n",
       "      <td>-175.000000</td>\n",
       "    </tr>\n",
       "    <tr>\n",
       "      <th>25%</th>\n",
       "      <td>2020-09-06 00:00:00</td>\n",
       "      <td>100.000000</td>\n",
       "    </tr>\n",
       "    <tr>\n",
       "      <th>50%</th>\n",
       "      <td>2021-05-12 00:00:00</td>\n",
       "      <td>200.000000</td>\n",
       "    </tr>\n",
       "    <tr>\n",
       "      <th>75%</th>\n",
       "      <td>2022-01-09 00:00:00</td>\n",
       "      <td>300.000000</td>\n",
       "    </tr>\n",
       "    <tr>\n",
       "      <th>max</th>\n",
       "      <td>2022-05-05 00:00:00</td>\n",
       "      <td>1170.000000</td>\n",
       "    </tr>\n",
       "    <tr>\n",
       "      <th>std</th>\n",
       "      <td>NaN</td>\n",
       "      <td>177.532464</td>\n",
       "    </tr>\n",
       "  </tbody>\n",
       "</table>\n",
       "</div>"
      ],
      "text/plain": [
       "                                Date      Quantity\n",
       "count                          15655  15655.000000\n",
       "mean   2021-04-18 15:25:37.732353792    225.839923\n",
       "min              2020-01-02 00:00:00   -175.000000\n",
       "25%              2020-09-06 00:00:00    100.000000\n",
       "50%              2021-05-12 00:00:00    200.000000\n",
       "75%              2022-01-09 00:00:00    300.000000\n",
       "max              2022-05-05 00:00:00   1170.000000\n",
       "std                              NaN    177.532464"
      ]
     },
     "execution_count": 8,
     "metadata": {},
     "output_type": "execute_result"
    }
   ],
   "source": [
    "ActualProduction.describe()"
   ]
  },
  {
   "cell_type": "code",
   "execution_count": 9,
   "id": "51c0a7d6",
   "metadata": {},
   "outputs": [
    {
     "data": {
      "text/plain": [
       "Date        0\n",
       "Machine     0\n",
       "Product     0\n",
       "Quantity    0\n",
       "Shift       0\n",
       "dtype: int64"
      ]
     },
     "execution_count": 9,
     "metadata": {},
     "output_type": "execute_result"
    }
   ],
   "source": [
    "ActualProduction.isna().sum()"
   ]
  },
  {
   "cell_type": "code",
   "execution_count": 10,
   "id": "21d288b2",
   "metadata": {},
   "outputs": [],
   "source": [
    "def Unique_Check(df):\n",
    "    for col in df.columns:\n",
    "        if col != \"Date\" and not pd.api.types.is_numeric_dtype(df[col]):\n",
    "            print(f\"Unique values in column {col} : {df[col].unique()}\\n\")"
   ]
  },
  {
   "cell_type": "code",
   "execution_count": 11,
   "id": "fa933e97",
   "metadata": {},
   "outputs": [
    {
     "name": "stdout",
     "output_type": "stream",
     "text": [
      "Unique values in column Machine : ['F-12' 'F-14' 'F-9' 'F-10' 'F-7' 'F-15' 'F-11' 'F-3' 'F-4' 'F-5' 'F-6'\n",
      " 'F-1' 'F-8' 'F-13' 'H-1' 'F-2' 'H-2' 'T-1' 'P-1' 'P-2' 'T-2' 'F-18']\n",
      "\n",
      "Unique values in column Product : ['Product 1' 'Product 10' 'Product 100' 'Product 101' 'Product 102'\n",
      " 'Product 103' 'Product 104' 'Product 105' 'Product 106' 'Product 107'\n",
      " 'Product 108' 'Product 109' 'Product 11' 'Product 110' 'Product 111'\n",
      " 'Product 112' 'Product 113' 'Product 114' 'Product 115' 'Product 116'\n",
      " 'Product 117' 'Product 118' 'Product 119' 'Product 12' 'Product 120'\n",
      " 'Product 121' 'Product 122' 'Product 123' 'Product 124' 'Product 125'\n",
      " 'Product 126' 'Product 127' 'Product 128' 'Product 129' 'Product 13'\n",
      " 'Product 130' 'Product 131' 'Product 132' 'Product 133' 'Product 134'\n",
      " 'Product 135' 'Product 136' 'Product 137' 'Product 138' 'Product 139'\n",
      " 'Product 14' 'Product 140' 'Product 141' 'Product 142' 'Product 143'\n",
      " 'Product 144' 'Product 145' 'Product 146' 'Product 147' 'Product 148'\n",
      " 'Product 149' 'Product 15' 'Product 150' 'Product 151' 'Product 152'\n",
      " 'Product 153' 'Product 154' 'Product 155' 'Product 156' 'Product 157'\n",
      " 'Product 158' 'Product 159' 'Product 16' 'Product 160' 'Product 161'\n",
      " 'Product 162' 'Product 163' 'Product 164' 'Product 165' 'Product 166'\n",
      " 'Product 167' 'Product 168' 'Product 169' 'Product 17' 'Product 170'\n",
      " 'Product 171' 'Product 172' 'Product 173' 'Product 174' 'Product 175'\n",
      " 'Product 176' 'Product 177' 'Product 178' 'Product 179' 'Product 18'\n",
      " 'Product 180' 'Product 181' 'Product 182' 'Product 183' 'Product 184'\n",
      " 'Product 185' 'Product 186' 'Product 187' 'Product 188' 'Product 189'\n",
      " 'Product 19' 'Product 190' 'Product 191' 'Product 192' 'Product 193'\n",
      " 'Product 194' 'Product 195' 'Product 196' 'Product 197' 'Product 198'\n",
      " 'Product 199' 'Product 2' 'Product 20' 'Product 200' 'Product 201'\n",
      " 'Product 202' 'Product 203' 'Product 204' 'Product 205' 'Product 206'\n",
      " 'Product 207' 'Product 208' 'Product 209' 'Product 21' 'Product 210'\n",
      " 'Product 211' 'Product 212' 'Product 213' 'Product 214' 'Product 215'\n",
      " 'Product 216' 'Product 217' 'Product 22' 'Product 225' 'Product 227'\n",
      " 'Product 228' 'Product 229' 'Product 23' 'Product 230' 'Product 231'\n",
      " 'Product 233' 'Product 234' 'Product 236' 'Product 237' 'Product 238'\n",
      " 'Product 24' 'Product 241' 'Product 248' 'Product 25' 'Product 251'\n",
      " 'Product 257' 'Product 258' 'Product 26' 'Product 260' 'Product 261'\n",
      " 'Product 262' 'Product 27' 'Product 272' 'Product 274' 'Product 275'\n",
      " 'Product 276' 'Product 279' 'Product 28' 'Product 281' 'Product 283'\n",
      " 'Product 284' 'Product 285' 'Product 29' 'Product 291' 'Product 292'\n",
      " 'Product 295' 'Product 3' 'Product 30' 'Product 306' 'Product 308'\n",
      " 'Product 31' 'Product 32' 'Product 323' 'Product 325' 'Product 327'\n",
      " 'Product 329' 'Product 33' 'Product 336' 'Product 337' 'Product 34'\n",
      " 'Product 345' 'Product 346' 'Product 349' 'Product 35' 'Product 358'\n",
      " 'Product 36' 'Product 365' 'Product 37' 'Product 370' 'Product 38'\n",
      " 'Product 39' 'Product 4' 'Product 40' 'Product 401' 'Product 407'\n",
      " 'Product 409' 'Product 41' 'Product 414' 'Product 42' 'Product 422'\n",
      " 'Product 43' 'Product 430' 'Product 44' 'Product 446' 'Product 45'\n",
      " 'Product 46' 'Product 463' 'Product 465' 'Product 467' 'Product 47'\n",
      " 'Product 478' 'Product 48' 'Product 489' 'Product 49' 'Product 490'\n",
      " 'Product 5' 'Product 50' 'Product 505' 'Product 508' 'Product 51'\n",
      " 'Product 52' 'Product 529' 'Product 53' 'Product 54' 'Product 55'\n",
      " 'Product 555' 'Product 558' 'Product 56' 'Product 565' 'Product 566'\n",
      " 'Product 57' 'Product 570' 'Product 579' 'Product 58' 'Product 587'\n",
      " 'Product 59' 'Product 593' 'Product 594' 'Product 6' 'Product 60'\n",
      " 'Product 61' 'Product 62' 'Product 622' 'Product 625' 'Product 626'\n",
      " 'Product 628' 'Product 63' 'Product 636' 'Product 64' 'Product 644'\n",
      " 'Product 648' 'Product 65' 'Product 652' 'Product 656' 'Product 657'\n",
      " 'Product 658' 'Product 66' 'Product 660' 'Product 663' 'Product 664'\n",
      " 'Product 67' 'Product 673' 'Product 677' 'Product 68' 'Product 681'\n",
      " 'Product 69' 'Product 7' 'Product 70' 'Product 71' 'Product 72'\n",
      " 'Product 73' 'Product 74' 'Product 75' 'Product 76' 'Product 77'\n",
      " 'Product 78' 'Product 79' 'Product 8' 'Product 80' 'Product 81'\n",
      " 'Product 82' 'Product 83' 'Product 84' 'Product 85' 'Product 86'\n",
      " 'Product 87' 'Product 88' 'Product 89' 'Product 9' 'Product 90'\n",
      " 'Product 91' 'Product 92' 'Product 93' 'Product 94' 'Product 95'\n",
      " 'Product 96' 'Product 97' 'Product 98' 'Product 99']\n",
      "\n",
      "Unique values in column Shift : ['Shift#2' 'Shift#1']\n",
      "\n"
     ]
    }
   ],
   "source": [
    "Unique_Check(ActualProduction)"
   ]
  },
  {
   "cell_type": "code",
   "execution_count": 12,
   "id": "2e838b38",
   "metadata": {},
   "outputs": [],
   "source": [
    "ActualProduction['Quantity'] = abs(ActualProduction['Quantity'])"
   ]
  },
  {
   "cell_type": "code",
   "execution_count": 13,
   "id": "9dc33cdc",
   "metadata": {},
   "outputs": [
    {
     "name": "stdout",
     "output_type": "stream",
     "text": [
      "[ 132  216  348   72  324   48  432   12  120   24  246  192  160  108\n",
      "  276  240   84  372   60   36  300  312  204  144  168  252  264  228\n",
      "   96  360  156   23  288  336  180  444    0  396  210  150  165   15\n",
      "   50   30   90  195   75  225    9  125   45  135  255   37  184  175\n",
      "  231  196  217  224  161  270  306  208   56  126   18  234  283  198\n",
      "  378  174  260  323  162  318  354  154  286   40  290  342   98  314\n",
      "  164  238  376   80   52   16  128   32  390  313  420  484   25  330\n",
      "  510  261  349  297  480  299  149   70  450  202  507   21  410  280\n",
      "  327  434   88  189   82   76  423  263  371  211  269  200   28  308\n",
      "   42  392  112  106  291  235  140  364  352  273   13  167  223  413\n",
      "  129  334  320   73  136  113  177  153  117  468  355  357  408  460\n",
      "  368  332  205  171   85   47   61   74  100  222  103  660  570  139\n",
      "  524  540  690  438  630  600  294  720  840  206  221  780  640  810\n",
      "  750  564  328  870  990  908  930  614  900 1170  960  329  453  890\n",
      "  561  472  834  821  799  576 1020  648  739   92  500  279  394  499\n",
      "  677  186  455  525  289  651  560  595  315  563  650  875  764  490\n",
      "  770  665  385   35   69  700  498  633  805  910  476  626  945  735\n",
      "  275  105  609  267  163  546  681  173  828  245  406  980  603  647\n",
      "  363   53  274 1050  722  179  159   55    6  104  131  169   64   38\n",
      "  172  158  243  220   81  191  213  340   20   39   83  199   99  302\n",
      "  188   58  311  157  316  176  115  109  278   34  185   57   43    5\n",
      "  214   33  194  110   89  123  138  141  137  232  147  119  118   95\n",
      "  130   22  209  170  212  250   66   87  237  116  226  111  197  143\n",
      "   65  257  350  400  218  550  573   14  381   71  384   77  201   79\n",
      "  256  107  133  145  155   97  151   41  142  101   44  122  251  114\n",
      "   54   68  178  182  247  309  284   46  285  304   67   93  456  310\n",
      "  190  148  124  325  820  440  740  686  620  265  520  623  552  860\n",
      "  227  636  800  680  449  728   26  370   63  393  353  366   62  395\n",
      "  629  287  183  248  203  258  301  207  532  912  253  496  848  512\n",
      "  928  736  688  624  743  704  701  272  608  592    8  517  816  697\n",
      "  345  416  610  672  296  612  464  752  896  544  656  768  652  784\n",
      "  864  292  832  528  448  568  399  365  428   51    1  377  230  127\n",
      "   17  644  597  481  375  409  523  215   94  374   10  583   11   78\n",
      "  586  433  585  401  339  441  426  488  397  852  598  388  503  679\n",
      "  653  823  494  584  437  382  738   19  511  631  545  558  317  696\n",
      "  307  547    2  242  335  277  262  236  282  244  187   31  241  229\n",
      "  166    4   49   91  239  193  305  527  485  760  580   59  266   86\n",
      "  102  333  295  271  430  522  398  233  386  219  458  526  422  531\n",
      "  121  181  380  359  664  508  152   27  344  303  424  405  462  565\n",
      "  709  535  146    3  594  414  486  442  429  504   29    7  785  347\n",
      "  343  346  431  331  516  537  492  447  465  435  505  475  412  338\n",
      "  341  337  134  358  319  369]\n"
     ]
    }
   ],
   "source": [
    "print(ActualProduction['Quantity'].unique())"
   ]
  },
  {
   "cell_type": "code",
   "execution_count": 14,
   "id": "32be9919",
   "metadata": {},
   "outputs": [
    {
     "name": "stdout",
     "output_type": "stream",
     "text": [
      "                                Date      Quantity\n",
      "count                          15655  15655.000000\n",
      "mean   2021-04-18 15:25:37.732353792    225.954647\n",
      "min              2020-01-02 00:00:00      0.000000\n",
      "25%              2020-09-06 00:00:00    100.000000\n",
      "50%              2021-05-12 00:00:00    200.000000\n",
      "75%              2022-01-09 00:00:00    300.000000\n",
      "max              2022-05-05 00:00:00   1170.000000\n",
      "std                              NaN    177.386417\n"
     ]
    }
   ],
   "source": [
    "print(ActualProduction.describe())"
   ]
  },
  {
   "cell_type": "code",
   "execution_count": 15,
   "id": "5aa9df80",
   "metadata": {},
   "outputs": [
    {
     "data": {
      "text/html": [
       "<div>\n",
       "<style scoped>\n",
       "    .dataframe tbody tr th:only-of-type {\n",
       "        vertical-align: middle;\n",
       "    }\n",
       "\n",
       "    .dataframe tbody tr th {\n",
       "        vertical-align: top;\n",
       "    }\n",
       "\n",
       "    .dataframe thead th {\n",
       "        text-align: right;\n",
       "    }\n",
       "</style>\n",
       "<table border=\"1\" class=\"dataframe\">\n",
       "  <thead>\n",
       "    <tr style=\"text-align: right;\">\n",
       "      <th></th>\n",
       "      <th>Date</th>\n",
       "      <th>Product</th>\n",
       "      <th>Forecast Type</th>\n",
       "      <th>Forecast Units</th>\n",
       "    </tr>\n",
       "  </thead>\n",
       "  <tbody>\n",
       "    <tr>\n",
       "      <th>0</th>\n",
       "      <td>2020-01-01</td>\n",
       "      <td>Product 1</td>\n",
       "      <td>Production Forecast</td>\n",
       "      <td>1532.0</td>\n",
       "    </tr>\n",
       "    <tr>\n",
       "      <th>1</th>\n",
       "      <td>2020-01-01</td>\n",
       "      <td>Product 1</td>\n",
       "      <td>Sales Forecast</td>\n",
       "      <td>1532.0</td>\n",
       "    </tr>\n",
       "    <tr>\n",
       "      <th>2</th>\n",
       "      <td>2020-02-01</td>\n",
       "      <td>Product 1</td>\n",
       "      <td>Production Forecast</td>\n",
       "      <td>1908.0</td>\n",
       "    </tr>\n",
       "    <tr>\n",
       "      <th>3</th>\n",
       "      <td>2020-02-01</td>\n",
       "      <td>Product 1</td>\n",
       "      <td>Sales Forecast</td>\n",
       "      <td>1908.0</td>\n",
       "    </tr>\n",
       "    <tr>\n",
       "      <th>4</th>\n",
       "      <td>2020-03-01</td>\n",
       "      <td>Product 1</td>\n",
       "      <td>Production Forecast</td>\n",
       "      <td>1800.0</td>\n",
       "    </tr>\n",
       "  </tbody>\n",
       "</table>\n",
       "</div>"
      ],
      "text/plain": [
       "        Date    Product        Forecast Type  Forecast Units\n",
       "0 2020-01-01  Product 1  Production Forecast          1532.0\n",
       "1 2020-01-01  Product 1       Sales Forecast          1532.0\n",
       "2 2020-02-01  Product 1  Production Forecast          1908.0\n",
       "3 2020-02-01  Product 1       Sales Forecast          1908.0\n",
       "4 2020-03-01  Product 1  Production Forecast          1800.0"
      ]
     },
     "execution_count": 15,
     "metadata": {},
     "output_type": "execute_result"
    }
   ],
   "source": [
    "ForcastUnit = pd.read_excel(data, sheet_name=sheet_names[1])\n",
    "ForcastUnit.head()"
   ]
  },
  {
   "cell_type": "code",
   "execution_count": 16,
   "id": "a3078115",
   "metadata": {},
   "outputs": [
    {
     "data": {
      "text/plain": [
       "Date              datetime64[ns]\n",
       "Product                   object\n",
       "Forecast Type             object\n",
       "Forecast Units           float64\n",
       "dtype: object"
      ]
     },
     "execution_count": 16,
     "metadata": {},
     "output_type": "execute_result"
    }
   ],
   "source": [
    "ForcastUnit.dtypes"
   ]
  },
  {
   "cell_type": "code",
   "execution_count": 17,
   "id": "cd5561d5",
   "metadata": {},
   "outputs": [
    {
     "data": {
      "text/plain": [
       "Date              0\n",
       "Product           0\n",
       "Forecast Type     0\n",
       "Forecast Units    0\n",
       "dtype: int64"
      ]
     },
     "execution_count": 17,
     "metadata": {},
     "output_type": "execute_result"
    }
   ],
   "source": [
    "ForcastUnit.isna().sum()"
   ]
  },
  {
   "cell_type": "code",
   "execution_count": 18,
   "id": "a15a532f",
   "metadata": {},
   "outputs": [
    {
     "data": {
      "text/html": [
       "<div>\n",
       "<style scoped>\n",
       "    .dataframe tbody tr th:only-of-type {\n",
       "        vertical-align: middle;\n",
       "    }\n",
       "\n",
       "    .dataframe tbody tr th {\n",
       "        vertical-align: top;\n",
       "    }\n",
       "\n",
       "    .dataframe thead th {\n",
       "        text-align: right;\n",
       "    }\n",
       "</style>\n",
       "<table border=\"1\" class=\"dataframe\">\n",
       "  <thead>\n",
       "    <tr style=\"text-align: right;\">\n",
       "      <th></th>\n",
       "      <th>Date</th>\n",
       "      <th>Forecast Units</th>\n",
       "    </tr>\n",
       "  </thead>\n",
       "  <tbody>\n",
       "    <tr>\n",
       "      <th>count</th>\n",
       "      <td>14300</td>\n",
       "      <td>14300.000000</td>\n",
       "    </tr>\n",
       "    <tr>\n",
       "      <th>mean</th>\n",
       "      <td>2021-05-06 05:55:09.986013952</td>\n",
       "      <td>1162.818783</td>\n",
       "    </tr>\n",
       "    <tr>\n",
       "      <th>min</th>\n",
       "      <td>2020-01-01 00:00:00</td>\n",
       "      <td>-2676.000000</td>\n",
       "    </tr>\n",
       "    <tr>\n",
       "      <th>25%</th>\n",
       "      <td>2020-08-01 00:00:00</td>\n",
       "      <td>60.000000</td>\n",
       "    </tr>\n",
       "    <tr>\n",
       "      <th>50%</th>\n",
       "      <td>2021-04-01 00:00:00</td>\n",
       "      <td>400.950000</td>\n",
       "    </tr>\n",
       "    <tr>\n",
       "      <th>75%</th>\n",
       "      <td>2022-02-01 00:00:00</td>\n",
       "      <td>1359.000000</td>\n",
       "    </tr>\n",
       "    <tr>\n",
       "      <th>max</th>\n",
       "      <td>2022-12-01 00:00:00</td>\n",
       "      <td>18532.600000</td>\n",
       "    </tr>\n",
       "    <tr>\n",
       "      <th>std</th>\n",
       "      <td>NaN</td>\n",
       "      <td>2002.553114</td>\n",
       "    </tr>\n",
       "  </tbody>\n",
       "</table>\n",
       "</div>"
      ],
      "text/plain": [
       "                                Date  Forecast Units\n",
       "count                          14300    14300.000000\n",
       "mean   2021-05-06 05:55:09.986013952     1162.818783\n",
       "min              2020-01-01 00:00:00    -2676.000000\n",
       "25%              2020-08-01 00:00:00       60.000000\n",
       "50%              2021-04-01 00:00:00      400.950000\n",
       "75%              2022-02-01 00:00:00     1359.000000\n",
       "max              2022-12-01 00:00:00    18532.600000\n",
       "std                              NaN     2002.553114"
      ]
     },
     "execution_count": 18,
     "metadata": {},
     "output_type": "execute_result"
    }
   ],
   "source": [
    "ForcastUnit.describe()"
   ]
  },
  {
   "cell_type": "code",
   "execution_count": 19,
   "id": "a4c0bc37",
   "metadata": {},
   "outputs": [
    {
     "name": "stdout",
     "output_type": "stream",
     "text": [
      "-2676.0\n",
      "-2676.0\n",
      "-60.0\n"
     ]
    }
   ],
   "source": [
    "for val in ForcastUnit['Forecast Units']:\n",
    "    if val < 0:\n",
    "        print(val)"
   ]
  },
  {
   "cell_type": "code",
   "execution_count": 20,
   "id": "d8b58417",
   "metadata": {},
   "outputs": [],
   "source": [
    "ForcastUnit['Forecast Units'] = abs(ForcastUnit['Forecast Units'])"
   ]
  },
  {
   "cell_type": "code",
   "execution_count": 21,
   "id": "034a1a45",
   "metadata": {},
   "outputs": [
    {
     "name": "stdout",
     "output_type": "stream",
     "text": [
      "Count of negative values = 0\n"
     ]
    }
   ],
   "source": [
    "negCount = 0\n",
    "for val in ForcastUnit['Forecast Units']:\n",
    "    if val < 0:\n",
    "        print(val)\n",
    "        negCount += 1\n",
    "\n",
    "print(f\"Count of negative values = {negCount}\")"
   ]
  },
  {
   "cell_type": "code",
   "execution_count": 22,
   "id": "83a448b6",
   "metadata": {},
   "outputs": [
    {
     "name": "stdout",
     "output_type": "stream",
     "text": [
      "Unique values in column Product : ['Product 1' 'Product 10' 'Product 100' 'Product 1002' 'Product 101'\n",
      " 'Product 1013' 'Product 102' 'Product 1024' 'Product 103' 'Product 1037'\n",
      " 'Product 104' 'Product 105' 'Product 106' 'Product 1065' 'Product 1068'\n",
      " 'Product 107' 'Product 108' 'Product 1084' 'Product 109' 'Product 110'\n",
      " 'Product 1109' 'Product 111' 'Product 112' 'Product 113' 'Product 1138'\n",
      " 'Product 114' 'Product 115' 'Product 116' 'Product 117' 'Product 118'\n",
      " 'Product 119' 'Product 12' 'Product 120' 'Product 121' 'Product 122'\n",
      " 'Product 123' 'Product 124' 'Product 125' 'Product 126' 'Product 127'\n",
      " 'Product 128' 'Product 129' 'Product 13' 'Product 130' 'Product 131'\n",
      " 'Product 132' 'Product 133' 'Product 134' 'Product 135' 'Product 1350'\n",
      " 'Product 1351' 'Product 1357' 'Product 136' 'Product 137' 'Product 138'\n",
      " 'Product 139' 'Product 14' 'Product 140' 'Product 141' 'Product 142'\n",
      " 'Product 143' 'Product 144' 'Product 145' 'Product 146' 'Product 147'\n",
      " 'Product 148' 'Product 149' 'Product 15' 'Product 150' 'Product 1508'\n",
      " 'Product 151' 'Product 152' 'Product 153' 'Product 154' 'Product 155'\n",
      " 'Product 156' 'Product 157' 'Product 158' 'Product 159' 'Product 16'\n",
      " 'Product 160' 'Product 161' 'Product 162' 'Product 163' 'Product 164'\n",
      " 'Product 165' 'Product 166' 'Product 167' 'Product 168' 'Product 169'\n",
      " 'Product 17' 'Product 170' 'Product 171' 'Product 172' 'Product 173'\n",
      " 'Product 174' 'Product 175' 'Product 176' 'Product 177' 'Product 18'\n",
      " 'Product 180' 'Product 181' 'Product 182' 'Product 183' 'Product 184'\n",
      " 'Product 185' 'Product 186' 'Product 187' 'Product 188' 'Product 189'\n",
      " 'Product 19' 'Product 190' 'Product 191' 'Product 192' 'Product 193'\n",
      " 'Product 194' 'Product 195' 'Product 196' 'Product 197' 'Product 198'\n",
      " 'Product 199' 'Product 2' 'Product 20' 'Product 200' 'Product 201'\n",
      " 'Product 202' 'Product 203' 'Product 204' 'Product 205' 'Product 206'\n",
      " 'Product 207' 'Product 208' 'Product 209' 'Product 21' 'Product 211'\n",
      " 'Product 212' 'Product 213' 'Product 214' 'Product 215' 'Product 216'\n",
      " 'Product 217' 'Product 22' 'Product 225' 'Product 227' 'Product 228'\n",
      " 'Product 229' 'Product 23' 'Product 230' 'Product 231' 'Product 233'\n",
      " 'Product 234' 'Product 236' 'Product 237' 'Product 238' 'Product 24'\n",
      " 'Product 241' 'Product 248' 'Product 25' 'Product 251' 'Product 257'\n",
      " 'Product 258' 'Product 26' 'Product 260' 'Product 261' 'Product 262'\n",
      " 'Product 27' 'Product 272' 'Product 274' 'Product 275' 'Product 276'\n",
      " 'Product 279' 'Product 28' 'Product 281' 'Product 283' 'Product 284'\n",
      " 'Product 285' 'Product 29' 'Product 291' 'Product 292' 'Product 295'\n",
      " 'Product 3' 'Product 30' 'Product 306' 'Product 308' 'Product 31'\n",
      " 'Product 32' 'Product 323' 'Product 325' 'Product 327' 'Product 329'\n",
      " 'Product 336' 'Product 337' 'Product 34' 'Product 345' 'Product 346'\n",
      " 'Product 349' 'Product 35' 'Product 358' 'Product 36' 'Product 365'\n",
      " 'Product 37' 'Product 370' 'Product 38' 'Product 39' 'Product 4'\n",
      " 'Product 40' 'Product 401' 'Product 407' 'Product 409' 'Product 41'\n",
      " 'Product 414' 'Product 42' 'Product 422' 'Product 43' 'Product 430'\n",
      " 'Product 44' 'Product 446' 'Product 45' 'Product 46' 'Product 465'\n",
      " 'Product 467' 'Product 47' 'Product 478' 'Product 48' 'Product 489'\n",
      " 'Product 49' 'Product 490' 'Product 5' 'Product 50' 'Product 505'\n",
      " 'Product 508' 'Product 51' 'Product 52' 'Product 529' 'Product 53'\n",
      " 'Product 54' 'Product 55' 'Product 555' 'Product 558' 'Product 56'\n",
      " 'Product 565' 'Product 566' 'Product 57' 'Product 570' 'Product 579'\n",
      " 'Product 58' 'Product 587' 'Product 59' 'Product 593' 'Product 594'\n",
      " 'Product 6' 'Product 60' 'Product 61' 'Product 62' 'Product 622'\n",
      " 'Product 626' 'Product 628' 'Product 63' 'Product 636' 'Product 64'\n",
      " 'Product 644' 'Product 648' 'Product 65' 'Product 652' 'Product 656'\n",
      " 'Product 657' 'Product 658' 'Product 66' 'Product 660' 'Product 663'\n",
      " 'Product 664' 'Product 67' 'Product 673' 'Product 677' 'Product 68'\n",
      " 'Product 681' 'Product 686' 'Product 687' 'Product 688' 'Product 689'\n",
      " 'Product 69' 'Product 690' 'Product 691' 'Product 692' 'Product 693'\n",
      " 'Product 694' 'Product 695' 'Product 696' 'Product 697' 'Product 698'\n",
      " 'Product 699' 'Product 70' 'Product 700' 'Product 701' 'Product 702'\n",
      " 'Product 703' 'Product 704' 'Product 705' 'Product 706' 'Product 707'\n",
      " 'Product 708' 'Product 709' 'Product 71' 'Product 710' 'Product 711'\n",
      " 'Product 712' 'Product 713' 'Product 714' 'Product 715' 'Product 716'\n",
      " 'Product 717' 'Product 718' 'Product 719' 'Product 72' 'Product 720'\n",
      " 'Product 721' 'Product 73' 'Product 74' 'Product 740' 'Product 75'\n",
      " 'Product 757' 'Product 759' 'Product 76' 'Product 77' 'Product 78'\n",
      " 'Product 780' 'Product 79' 'Product 8' 'Product 80' 'Product 805'\n",
      " 'Product 806' 'Product 808' 'Product 81' 'Product 82' 'Product 83'\n",
      " 'Product 84' 'Product 85' 'Product 859' 'Product 86' 'Product 860'\n",
      " 'Product 862' 'Product 865' 'Product 87' 'Product 871' 'Product 872'\n",
      " 'Product 88' 'Product 89' 'Product 9' 'Product 90' 'Product 91'\n",
      " 'Product 92' 'Product 922' 'Product 929' 'Product 93' 'Product 930'\n",
      " 'Product 936' 'Product 94' 'Product 944' 'Product 95' 'Product 96'\n",
      " 'Product 964' 'Product 965' 'Product 966' 'Product 967' 'Product 968'\n",
      " 'Product 97' 'Product 970' 'Product 971' 'Product 972' 'Product 973'\n",
      " 'Product 975' 'Product 98' 'Product 982' 'Product 983' 'Product 99']\n",
      "\n",
      "Unique values in column Forecast Type : ['Production Forecast' 'Sales Forecast']\n",
      "\n"
     ]
    }
   ],
   "source": [
    "Unique_Check(ForcastUnit)"
   ]
  },
  {
   "cell_type": "code",
   "execution_count": 23,
   "id": "9e387b81",
   "metadata": {},
   "outputs": [
    {
     "data": {
      "text/html": [
       "<div>\n",
       "<style scoped>\n",
       "    .dataframe tbody tr th:only-of-type {\n",
       "        vertical-align: middle;\n",
       "    }\n",
       "\n",
       "    .dataframe tbody tr th {\n",
       "        vertical-align: top;\n",
       "    }\n",
       "\n",
       "    .dataframe thead th {\n",
       "        text-align: right;\n",
       "    }\n",
       "</style>\n",
       "<table border=\"1\" class=\"dataframe\">\n",
       "  <thead>\n",
       "    <tr style=\"text-align: right;\">\n",
       "      <th></th>\n",
       "      <th>Product</th>\n",
       "      <th>Quantity</th>\n",
       "      <th>2022-05-07 00:00:00</th>\n",
       "      <th>2022-05-08 00:00:00</th>\n",
       "      <th>2022-05-09 00:00:00</th>\n",
       "      <th>2022-05-10 00:00:00</th>\n",
       "      <th>2022-05-11 00:00:00</th>\n",
       "      <th>2022-05-12 00:00:00</th>\n",
       "      <th>2022-05-13 00:00:00</th>\n",
       "      <th>2022-05-14 00:00:00</th>\n",
       "      <th>2022-05-15 00:00:00</th>\n",
       "      <th>2022-05-16 00:00:00</th>\n",
       "      <th>2022-05-17 00:00:00</th>\n",
       "      <th>2022-05-18 00:00:00</th>\n",
       "      <th>2022-05-19 00:00:00</th>\n",
       "      <th>2022-05-20 00:00:00</th>\n",
       "    </tr>\n",
       "  </thead>\n",
       "  <tbody>\n",
       "    <tr>\n",
       "      <th>0</th>\n",
       "      <td>Product 1</td>\n",
       "      <td>141</td>\n",
       "      <td>0</td>\n",
       "      <td>0</td>\n",
       "      <td>0</td>\n",
       "      <td>0</td>\n",
       "      <td>0</td>\n",
       "      <td>0</td>\n",
       "      <td>36</td>\n",
       "      <td>0</td>\n",
       "      <td>0</td>\n",
       "      <td>0</td>\n",
       "      <td>0</td>\n",
       "      <td>0</td>\n",
       "      <td>0</td>\n",
       "      <td>0</td>\n",
       "    </tr>\n",
       "    <tr>\n",
       "      <th>1</th>\n",
       "      <td>Product 2</td>\n",
       "      <td>877</td>\n",
       "      <td>0</td>\n",
       "      <td>0</td>\n",
       "      <td>36</td>\n",
       "      <td>90</td>\n",
       "      <td>0</td>\n",
       "      <td>180</td>\n",
       "      <td>216</td>\n",
       "      <td>0</td>\n",
       "      <td>0</td>\n",
       "      <td>36</td>\n",
       "      <td>198</td>\n",
       "      <td>36</td>\n",
       "      <td>0</td>\n",
       "      <td>0</td>\n",
       "    </tr>\n",
       "    <tr>\n",
       "      <th>2</th>\n",
       "      <td>Product 3</td>\n",
       "      <td>1593</td>\n",
       "      <td>0</td>\n",
       "      <td>0</td>\n",
       "      <td>25</td>\n",
       "      <td>0</td>\n",
       "      <td>0</td>\n",
       "      <td>100</td>\n",
       "      <td>100</td>\n",
       "      <td>0</td>\n",
       "      <td>0</td>\n",
       "      <td>125</td>\n",
       "      <td>175</td>\n",
       "      <td>0</td>\n",
       "      <td>0</td>\n",
       "      <td>0</td>\n",
       "    </tr>\n",
       "    <tr>\n",
       "      <th>3</th>\n",
       "      <td>Product 4</td>\n",
       "      <td>463</td>\n",
       "      <td>0</td>\n",
       "      <td>0</td>\n",
       "      <td>0</td>\n",
       "      <td>0</td>\n",
       "      <td>0</td>\n",
       "      <td>0</td>\n",
       "      <td>0</td>\n",
       "      <td>0</td>\n",
       "      <td>0</td>\n",
       "      <td>0</td>\n",
       "      <td>0</td>\n",
       "      <td>0</td>\n",
       "      <td>0</td>\n",
       "      <td>0</td>\n",
       "    </tr>\n",
       "    <tr>\n",
       "      <th>4</th>\n",
       "      <td>Product 5</td>\n",
       "      <td>2284</td>\n",
       "      <td>0</td>\n",
       "      <td>0</td>\n",
       "      <td>576</td>\n",
       "      <td>300</td>\n",
       "      <td>0</td>\n",
       "      <td>1320</td>\n",
       "      <td>1392</td>\n",
       "      <td>0</td>\n",
       "      <td>0</td>\n",
       "      <td>192</td>\n",
       "      <td>1296</td>\n",
       "      <td>288</td>\n",
       "      <td>0</td>\n",
       "      <td>0</td>\n",
       "    </tr>\n",
       "  </tbody>\n",
       "</table>\n",
       "</div>"
      ],
      "text/plain": [
       "     Product  Quantity  2022-05-07 00:00:00  2022-05-08 00:00:00  \\\n",
       "0  Product 1       141                    0                    0   \n",
       "1  Product 2       877                    0                    0   \n",
       "2  Product 3      1593                    0                    0   \n",
       "3  Product 4       463                    0                    0   \n",
       "4  Product 5      2284                    0                    0   \n",
       "\n",
       "   2022-05-09 00:00:00  2022-05-10 00:00:00  2022-05-11 00:00:00  \\\n",
       "0                    0                    0                    0   \n",
       "1                   36                   90                    0   \n",
       "2                   25                    0                    0   \n",
       "3                    0                    0                    0   \n",
       "4                  576                  300                    0   \n",
       "\n",
       "   2022-05-12 00:00:00  2022-05-13 00:00:00  2022-05-14 00:00:00  \\\n",
       "0                    0                   36                    0   \n",
       "1                  180                  216                    0   \n",
       "2                  100                  100                    0   \n",
       "3                    0                    0                    0   \n",
       "4                 1320                 1392                    0   \n",
       "\n",
       "   2022-05-15 00:00:00  2022-05-16 00:00:00  2022-05-17 00:00:00  \\\n",
       "0                    0                    0                    0   \n",
       "1                    0                   36                  198   \n",
       "2                    0                  125                  175   \n",
       "3                    0                    0                    0   \n",
       "4                    0                  192                 1296   \n",
       "\n",
       "   2022-05-18 00:00:00  2022-05-19 00:00:00  2022-05-20 00:00:00  \n",
       "0                    0                    0                    0  \n",
       "1                   36                    0                    0  \n",
       "2                    0                    0                    0  \n",
       "3                    0                    0                    0  \n",
       "4                  288                    0                    0  "
      ]
     },
     "execution_count": 23,
     "metadata": {},
     "output_type": "execute_result"
    }
   ],
   "source": [
    "SalesOrders = pd.read_excel(data, sheet_name=sheet_names[2])\n",
    "SalesOrders.head()"
   ]
  },
  {
   "cell_type": "code",
   "execution_count": 24,
   "id": "d5134cd9",
   "metadata": {},
   "outputs": [
    {
     "data": {
      "text/plain": [
       "(181, 16)"
      ]
     },
     "execution_count": 24,
     "metadata": {},
     "output_type": "execute_result"
    }
   ],
   "source": [
    "SalesOrders.shape"
   ]
  },
  {
   "cell_type": "code",
   "execution_count": 25,
   "id": "1cc1175e",
   "metadata": {},
   "outputs": [
    {
     "data": {
      "text/plain": [
       "Product                object\n",
       "Quantity                int64\n",
       "2022-05-07 00:00:00     int64\n",
       "2022-05-08 00:00:00     int64\n",
       "2022-05-09 00:00:00     int64\n",
       "2022-05-10 00:00:00     int64\n",
       "2022-05-11 00:00:00     int64\n",
       "2022-05-12 00:00:00     int64\n",
       "2022-05-13 00:00:00     int64\n",
       "2022-05-14 00:00:00     int64\n",
       "2022-05-15 00:00:00     int64\n",
       "2022-05-16 00:00:00     int64\n",
       "2022-05-17 00:00:00     int64\n",
       "2022-05-18 00:00:00     int64\n",
       "2022-05-19 00:00:00     int64\n",
       "2022-05-20 00:00:00     int64\n",
       "dtype: object"
      ]
     },
     "execution_count": 25,
     "metadata": {},
     "output_type": "execute_result"
    }
   ],
   "source": [
    "SalesOrders.dtypes"
   ]
  },
  {
   "cell_type": "code",
   "execution_count": 26,
   "id": "aa43a79e",
   "metadata": {},
   "outputs": [
    {
     "data": {
      "text/html": [
       "<div>\n",
       "<style scoped>\n",
       "    .dataframe tbody tr th:only-of-type {\n",
       "        vertical-align: middle;\n",
       "    }\n",
       "\n",
       "    .dataframe tbody tr th {\n",
       "        vertical-align: top;\n",
       "    }\n",
       "\n",
       "    .dataframe thead th {\n",
       "        text-align: right;\n",
       "    }\n",
       "</style>\n",
       "<table border=\"1\" class=\"dataframe\">\n",
       "  <thead>\n",
       "    <tr style=\"text-align: right;\">\n",
       "      <th></th>\n",
       "      <th>Quantity</th>\n",
       "      <th>2022-05-07 00:00:00</th>\n",
       "      <th>2022-05-08 00:00:00</th>\n",
       "      <th>2022-05-09 00:00:00</th>\n",
       "      <th>2022-05-10 00:00:00</th>\n",
       "      <th>2022-05-11 00:00:00</th>\n",
       "      <th>2022-05-12 00:00:00</th>\n",
       "      <th>2022-05-13 00:00:00</th>\n",
       "      <th>2022-05-14 00:00:00</th>\n",
       "      <th>2022-05-15 00:00:00</th>\n",
       "      <th>2022-05-16 00:00:00</th>\n",
       "      <th>2022-05-17 00:00:00</th>\n",
       "      <th>2022-05-18 00:00:00</th>\n",
       "      <th>2022-05-19 00:00:00</th>\n",
       "      <th>2022-05-20 00:00:00</th>\n",
       "    </tr>\n",
       "  </thead>\n",
       "  <tbody>\n",
       "    <tr>\n",
       "      <th>count</th>\n",
       "      <td>181.000000</td>\n",
       "      <td>181.0</td>\n",
       "      <td>181.0</td>\n",
       "      <td>181.000000</td>\n",
       "      <td>181.000000</td>\n",
       "      <td>181.000000</td>\n",
       "      <td>181.000000</td>\n",
       "      <td>181.000000</td>\n",
       "      <td>181.0</td>\n",
       "      <td>181.0</td>\n",
       "      <td>181.000000</td>\n",
       "      <td>181.000000</td>\n",
       "      <td>181.000000</td>\n",
       "      <td>181.000000</td>\n",
       "      <td>181.000000</td>\n",
       "    </tr>\n",
       "    <tr>\n",
       "      <th>mean</th>\n",
       "      <td>903.883978</td>\n",
       "      <td>0.0</td>\n",
       "      <td>0.0</td>\n",
       "      <td>104.729282</td>\n",
       "      <td>74.729282</td>\n",
       "      <td>67.270718</td>\n",
       "      <td>67.839779</td>\n",
       "      <td>104.895028</td>\n",
       "      <td>0.0</td>\n",
       "      <td>0.0</td>\n",
       "      <td>100.447514</td>\n",
       "      <td>75.110497</td>\n",
       "      <td>26.121547</td>\n",
       "      <td>21.651934</td>\n",
       "      <td>36.077348</td>\n",
       "    </tr>\n",
       "    <tr>\n",
       "      <th>std</th>\n",
       "      <td>1225.182804</td>\n",
       "      <td>0.0</td>\n",
       "      <td>0.0</td>\n",
       "      <td>231.432372</td>\n",
       "      <td>175.882975</td>\n",
       "      <td>149.005103</td>\n",
       "      <td>155.712098</td>\n",
       "      <td>235.664651</td>\n",
       "      <td>0.0</td>\n",
       "      <td>0.0</td>\n",
       "      <td>202.634246</td>\n",
       "      <td>183.344057</td>\n",
       "      <td>77.508900</td>\n",
       "      <td>59.395897</td>\n",
       "      <td>149.203644</td>\n",
       "    </tr>\n",
       "    <tr>\n",
       "      <th>min</th>\n",
       "      <td>0.000000</td>\n",
       "      <td>0.0</td>\n",
       "      <td>0.0</td>\n",
       "      <td>0.000000</td>\n",
       "      <td>0.000000</td>\n",
       "      <td>0.000000</td>\n",
       "      <td>0.000000</td>\n",
       "      <td>0.000000</td>\n",
       "      <td>0.0</td>\n",
       "      <td>0.0</td>\n",
       "      <td>0.000000</td>\n",
       "      <td>0.000000</td>\n",
       "      <td>0.000000</td>\n",
       "      <td>0.000000</td>\n",
       "      <td>0.000000</td>\n",
       "    </tr>\n",
       "    <tr>\n",
       "      <th>25%</th>\n",
       "      <td>137.000000</td>\n",
       "      <td>0.0</td>\n",
       "      <td>0.0</td>\n",
       "      <td>0.000000</td>\n",
       "      <td>0.000000</td>\n",
       "      <td>0.000000</td>\n",
       "      <td>0.000000</td>\n",
       "      <td>0.000000</td>\n",
       "      <td>0.0</td>\n",
       "      <td>0.0</td>\n",
       "      <td>0.000000</td>\n",
       "      <td>0.000000</td>\n",
       "      <td>0.000000</td>\n",
       "      <td>0.000000</td>\n",
       "      <td>0.000000</td>\n",
       "    </tr>\n",
       "    <tr>\n",
       "      <th>50%</th>\n",
       "      <td>463.000000</td>\n",
       "      <td>0.0</td>\n",
       "      <td>0.0</td>\n",
       "      <td>8.000000</td>\n",
       "      <td>0.000000</td>\n",
       "      <td>0.000000</td>\n",
       "      <td>0.000000</td>\n",
       "      <td>0.000000</td>\n",
       "      <td>0.0</td>\n",
       "      <td>0.0</td>\n",
       "      <td>0.000000</td>\n",
       "      <td>0.000000</td>\n",
       "      <td>0.000000</td>\n",
       "      <td>0.000000</td>\n",
       "      <td>0.000000</td>\n",
       "    </tr>\n",
       "    <tr>\n",
       "      <th>75%</th>\n",
       "      <td>1236.000000</td>\n",
       "      <td>0.0</td>\n",
       "      <td>0.0</td>\n",
       "      <td>92.000000</td>\n",
       "      <td>80.000000</td>\n",
       "      <td>85.000000</td>\n",
       "      <td>62.000000</td>\n",
       "      <td>112.000000</td>\n",
       "      <td>0.0</td>\n",
       "      <td>0.0</td>\n",
       "      <td>90.000000</td>\n",
       "      <td>84.000000</td>\n",
       "      <td>12.000000</td>\n",
       "      <td>0.000000</td>\n",
       "      <td>0.000000</td>\n",
       "    </tr>\n",
       "    <tr>\n",
       "      <th>max</th>\n",
       "      <td>8196.000000</td>\n",
       "      <td>0.0</td>\n",
       "      <td>0.0</td>\n",
       "      <td>1550.000000</td>\n",
       "      <td>1004.000000</td>\n",
       "      <td>1425.000000</td>\n",
       "      <td>1320.000000</td>\n",
       "      <td>1392.000000</td>\n",
       "      <td>0.0</td>\n",
       "      <td>0.0</td>\n",
       "      <td>1199.000000</td>\n",
       "      <td>1551.000000</td>\n",
       "      <td>625.000000</td>\n",
       "      <td>468.000000</td>\n",
       "      <td>1350.000000</td>\n",
       "    </tr>\n",
       "  </tbody>\n",
       "</table>\n",
       "</div>"
      ],
      "text/plain": [
       "          Quantity  2022-05-07 00:00:00  2022-05-08 00:00:00  \\\n",
       "count   181.000000                181.0                181.0   \n",
       "mean    903.883978                  0.0                  0.0   \n",
       "std    1225.182804                  0.0                  0.0   \n",
       "min       0.000000                  0.0                  0.0   \n",
       "25%     137.000000                  0.0                  0.0   \n",
       "50%     463.000000                  0.0                  0.0   \n",
       "75%    1236.000000                  0.0                  0.0   \n",
       "max    8196.000000                  0.0                  0.0   \n",
       "\n",
       "       2022-05-09 00:00:00  2022-05-10 00:00:00  2022-05-11 00:00:00  \\\n",
       "count           181.000000           181.000000           181.000000   \n",
       "mean            104.729282            74.729282            67.270718   \n",
       "std             231.432372           175.882975           149.005103   \n",
       "min               0.000000             0.000000             0.000000   \n",
       "25%               0.000000             0.000000             0.000000   \n",
       "50%               8.000000             0.000000             0.000000   \n",
       "75%              92.000000            80.000000            85.000000   \n",
       "max            1550.000000          1004.000000          1425.000000   \n",
       "\n",
       "       2022-05-12 00:00:00  2022-05-13 00:00:00  2022-05-14 00:00:00  \\\n",
       "count           181.000000           181.000000                181.0   \n",
       "mean             67.839779           104.895028                  0.0   \n",
       "std             155.712098           235.664651                  0.0   \n",
       "min               0.000000             0.000000                  0.0   \n",
       "25%               0.000000             0.000000                  0.0   \n",
       "50%               0.000000             0.000000                  0.0   \n",
       "75%              62.000000           112.000000                  0.0   \n",
       "max            1320.000000          1392.000000                  0.0   \n",
       "\n",
       "       2022-05-15 00:00:00  2022-05-16 00:00:00  2022-05-17 00:00:00  \\\n",
       "count                181.0           181.000000           181.000000   \n",
       "mean                   0.0           100.447514            75.110497   \n",
       "std                    0.0           202.634246           183.344057   \n",
       "min                    0.0             0.000000             0.000000   \n",
       "25%                    0.0             0.000000             0.000000   \n",
       "50%                    0.0             0.000000             0.000000   \n",
       "75%                    0.0            90.000000            84.000000   \n",
       "max                    0.0          1199.000000          1551.000000   \n",
       "\n",
       "       2022-05-18 00:00:00  2022-05-19 00:00:00  2022-05-20 00:00:00  \n",
       "count           181.000000           181.000000           181.000000  \n",
       "mean             26.121547            21.651934            36.077348  \n",
       "std              77.508900            59.395897           149.203644  \n",
       "min               0.000000             0.000000             0.000000  \n",
       "25%               0.000000             0.000000             0.000000  \n",
       "50%               0.000000             0.000000             0.000000  \n",
       "75%              12.000000             0.000000             0.000000  \n",
       "max             625.000000           468.000000          1350.000000  "
      ]
     },
     "execution_count": 26,
     "metadata": {},
     "output_type": "execute_result"
    }
   ],
   "source": [
    "SalesOrders.describe()"
   ]
  },
  {
   "cell_type": "code",
   "execution_count": 27,
   "id": "1bb6df22",
   "metadata": {},
   "outputs": [
    {
     "data": {
      "text/plain": [
       "'Finished Goods Inventory'"
      ]
     },
     "execution_count": 27,
     "metadata": {},
     "output_type": "execute_result"
    }
   ],
   "source": [
    "sheet_names[3]"
   ]
  },
  {
   "cell_type": "code",
   "execution_count": 28,
   "id": "2392fb1c",
   "metadata": {},
   "outputs": [
    {
     "data": {
      "text/html": [
       "<div>\n",
       "<style scoped>\n",
       "    .dataframe tbody tr th:only-of-type {\n",
       "        vertical-align: middle;\n",
       "    }\n",
       "\n",
       "    .dataframe tbody tr th {\n",
       "        vertical-align: top;\n",
       "    }\n",
       "\n",
       "    .dataframe thead th {\n",
       "        text-align: right;\n",
       "    }\n",
       "</style>\n",
       "<table border=\"1\" class=\"dataframe\">\n",
       "  <thead>\n",
       "    <tr style=\"text-align: right;\">\n",
       "      <th></th>\n",
       "      <th>Date</th>\n",
       "      <th>Product</th>\n",
       "      <th>Opening</th>\n",
       "      <th>Produced</th>\n",
       "      <th>Consumed</th>\n",
       "      <th>Closing</th>\n",
       "    </tr>\n",
       "  </thead>\n",
       "  <tbody>\n",
       "    <tr>\n",
       "      <th>0</th>\n",
       "      <td>2022-05-24</td>\n",
       "      <td>Product 1</td>\n",
       "      <td>141</td>\n",
       "      <td>0</td>\n",
       "      <td>-12</td>\n",
       "      <td>141</td>\n",
       "    </tr>\n",
       "    <tr>\n",
       "      <th>1</th>\n",
       "      <td>2022-05-24</td>\n",
       "      <td>Product 2</td>\n",
       "      <td>949</td>\n",
       "      <td>0</td>\n",
       "      <td>-72</td>\n",
       "      <td>877</td>\n",
       "    </tr>\n",
       "    <tr>\n",
       "      <th>2</th>\n",
       "      <td>2022-05-24</td>\n",
       "      <td>Product 3</td>\n",
       "      <td>1486</td>\n",
       "      <td>182</td>\n",
       "      <td>-75</td>\n",
       "      <td>1593</td>\n",
       "    </tr>\n",
       "    <tr>\n",
       "      <th>3</th>\n",
       "      <td>2022-05-24</td>\n",
       "      <td>Product 4</td>\n",
       "      <td>463</td>\n",
       "      <td>0</td>\n",
       "      <td>0</td>\n",
       "      <td>463</td>\n",
       "    </tr>\n",
       "    <tr>\n",
       "      <th>4</th>\n",
       "      <td>2022-05-24</td>\n",
       "      <td>Product 5</td>\n",
       "      <td>2980</td>\n",
       "      <td>492</td>\n",
       "      <td>-1188</td>\n",
       "      <td>2284</td>\n",
       "    </tr>\n",
       "    <tr>\n",
       "      <th>...</th>\n",
       "      <td>...</td>\n",
       "      <td>...</td>\n",
       "      <td>...</td>\n",
       "      <td>...</td>\n",
       "      <td>...</td>\n",
       "      <td>...</td>\n",
       "    </tr>\n",
       "    <tr>\n",
       "      <th>171</th>\n",
       "      <td>2022-05-24</td>\n",
       "      <td>Product 203</td>\n",
       "      <td>1916</td>\n",
       "      <td>0</td>\n",
       "      <td>0</td>\n",
       "      <td>1916</td>\n",
       "    </tr>\n",
       "    <tr>\n",
       "      <th>172</th>\n",
       "      <td>2022-05-24</td>\n",
       "      <td>Product 204</td>\n",
       "      <td>1184</td>\n",
       "      <td>0</td>\n",
       "      <td>0</td>\n",
       "      <td>1184</td>\n",
       "    </tr>\n",
       "    <tr>\n",
       "      <th>173</th>\n",
       "      <td>2022-05-24</td>\n",
       "      <td>Product 205</td>\n",
       "      <td>793</td>\n",
       "      <td>0</td>\n",
       "      <td>0</td>\n",
       "      <td>793</td>\n",
       "    </tr>\n",
       "    <tr>\n",
       "      <th>174</th>\n",
       "      <td>2022-05-24</td>\n",
       "      <td>Product 206</td>\n",
       "      <td>78</td>\n",
       "      <td>0</td>\n",
       "      <td>-60</td>\n",
       "      <td>18</td>\n",
       "    </tr>\n",
       "    <tr>\n",
       "      <th>175</th>\n",
       "      <td>2022-05-24</td>\n",
       "      <td>Product 208</td>\n",
       "      <td>1</td>\n",
       "      <td>0</td>\n",
       "      <td>0</td>\n",
       "      <td>1</td>\n",
       "    </tr>\n",
       "  </tbody>\n",
       "</table>\n",
       "<p>176 rows × 6 columns</p>\n",
       "</div>"
      ],
      "text/plain": [
       "          Date      Product  Opening  Produced  Consumed  Closing\n",
       "0   2022-05-24    Product 1      141         0       -12      141\n",
       "1   2022-05-24    Product 2      949         0       -72      877\n",
       "2   2022-05-24    Product 3     1486       182       -75     1593\n",
       "3   2022-05-24    Product 4      463         0         0      463\n",
       "4   2022-05-24    Product 5     2980       492     -1188     2284\n",
       "..         ...          ...      ...       ...       ...      ...\n",
       "171 2022-05-24  Product 203     1916         0         0     1916\n",
       "172 2022-05-24  Product 204     1184         0         0     1184\n",
       "173 2022-05-24  Product 205      793         0         0      793\n",
       "174 2022-05-24  Product 206       78         0       -60       18\n",
       "175 2022-05-24  Product 208        1         0         0        1\n",
       "\n",
       "[176 rows x 6 columns]"
      ]
     },
     "execution_count": 28,
     "metadata": {},
     "output_type": "execute_result"
    }
   ],
   "source": [
    "FinishedGoodsInventory = pd.read_excel(data, sheet_name=sheet_names[3])\n",
    "FinishedGoodsInventory"
   ]
  },
  {
   "cell_type": "code",
   "execution_count": 29,
   "id": "9071f3b9",
   "metadata": {},
   "outputs": [
    {
     "data": {
      "text/plain": [
       "Date        datetime64[ns]\n",
       "Product             object\n",
       "Opening              int64\n",
       "Produced             int64\n",
       "Consumed             int64\n",
       "Closing              int64\n",
       "dtype: object"
      ]
     },
     "execution_count": 29,
     "metadata": {},
     "output_type": "execute_result"
    }
   ],
   "source": [
    "FinishedGoodsInventory.dtypes"
   ]
  },
  {
   "cell_type": "code",
   "execution_count": 30,
   "id": "cf983d4c",
   "metadata": {},
   "outputs": [
    {
     "data": {
      "text/html": [
       "<div>\n",
       "<style scoped>\n",
       "    .dataframe tbody tr th:only-of-type {\n",
       "        vertical-align: middle;\n",
       "    }\n",
       "\n",
       "    .dataframe tbody tr th {\n",
       "        vertical-align: top;\n",
       "    }\n",
       "\n",
       "    .dataframe thead th {\n",
       "        text-align: right;\n",
       "    }\n",
       "</style>\n",
       "<table border=\"1\" class=\"dataframe\">\n",
       "  <thead>\n",
       "    <tr style=\"text-align: right;\">\n",
       "      <th></th>\n",
       "      <th>Date</th>\n",
       "      <th>Opening</th>\n",
       "      <th>Produced</th>\n",
       "      <th>Consumed</th>\n",
       "      <th>Closing</th>\n",
       "    </tr>\n",
       "  </thead>\n",
       "  <tbody>\n",
       "    <tr>\n",
       "      <th>count</th>\n",
       "      <td>176</td>\n",
       "      <td>176.000000</td>\n",
       "      <td>176.000000</td>\n",
       "      <td>176.000000</td>\n",
       "      <td>176.000000</td>\n",
       "    </tr>\n",
       "    <tr>\n",
       "      <th>mean</th>\n",
       "      <td>2022-05-24 00:00:00</td>\n",
       "      <td>963.755682</td>\n",
       "      <td>235.448864</td>\n",
       "      <td>-266.835227</td>\n",
       "      <td>929.562500</td>\n",
       "    </tr>\n",
       "    <tr>\n",
       "      <th>min</th>\n",
       "      <td>2022-05-24 00:00:00</td>\n",
       "      <td>0.000000</td>\n",
       "      <td>0.000000</td>\n",
       "      <td>-4131.000000</td>\n",
       "      <td>1.000000</td>\n",
       "    </tr>\n",
       "    <tr>\n",
       "      <th>25%</th>\n",
       "      <td>2022-05-24 00:00:00</td>\n",
       "      <td>147.250000</td>\n",
       "      <td>0.000000</td>\n",
       "      <td>-302.750000</td>\n",
       "      <td>150.750000</td>\n",
       "    </tr>\n",
       "    <tr>\n",
       "      <th>50%</th>\n",
       "      <td>2022-05-24 00:00:00</td>\n",
       "      <td>540.500000</td>\n",
       "      <td>0.000000</td>\n",
       "      <td>-35.000000</td>\n",
       "      <td>490.500000</td>\n",
       "    </tr>\n",
       "    <tr>\n",
       "      <th>75%</th>\n",
       "      <td>2022-05-24 00:00:00</td>\n",
       "      <td>1187.250000</td>\n",
       "      <td>0.000000</td>\n",
       "      <td>0.000000</td>\n",
       "      <td>1252.500000</td>\n",
       "    </tr>\n",
       "    <tr>\n",
       "      <th>max</th>\n",
       "      <td>2022-05-24 00:00:00</td>\n",
       "      <td>10181.000000</td>\n",
       "      <td>4844.000000</td>\n",
       "      <td>0.000000</td>\n",
       "      <td>8196.000000</td>\n",
       "    </tr>\n",
       "    <tr>\n",
       "      <th>std</th>\n",
       "      <td>NaN</td>\n",
       "      <td>1381.667201</td>\n",
       "      <td>656.583945</td>\n",
       "      <td>505.983739</td>\n",
       "      <td>1232.864352</td>\n",
       "    </tr>\n",
       "  </tbody>\n",
       "</table>\n",
       "</div>"
      ],
      "text/plain": [
       "                      Date       Opening     Produced     Consumed  \\\n",
       "count                  176    176.000000   176.000000   176.000000   \n",
       "mean   2022-05-24 00:00:00    963.755682   235.448864  -266.835227   \n",
       "min    2022-05-24 00:00:00      0.000000     0.000000 -4131.000000   \n",
       "25%    2022-05-24 00:00:00    147.250000     0.000000  -302.750000   \n",
       "50%    2022-05-24 00:00:00    540.500000     0.000000   -35.000000   \n",
       "75%    2022-05-24 00:00:00   1187.250000     0.000000     0.000000   \n",
       "max    2022-05-24 00:00:00  10181.000000  4844.000000     0.000000   \n",
       "std                    NaN   1381.667201   656.583945   505.983739   \n",
       "\n",
       "           Closing  \n",
       "count   176.000000  \n",
       "mean    929.562500  \n",
       "min       1.000000  \n",
       "25%     150.750000  \n",
       "50%     490.500000  \n",
       "75%    1252.500000  \n",
       "max    8196.000000  \n",
       "std    1232.864352  "
      ]
     },
     "execution_count": 30,
     "metadata": {},
     "output_type": "execute_result"
    }
   ],
   "source": [
    "FinishedGoodsInventory.describe()"
   ]
  },
  {
   "cell_type": "code",
   "execution_count": 31,
   "id": "6da46317",
   "metadata": {},
   "outputs": [
    {
     "name": "stdout",
     "output_type": "stream",
     "text": [
      "Count of negative values in Opening = 0\n",
      "Count of negative values in Produced = 0\n",
      "Count of negative values in Consumed = 112\n",
      "Count of negative values in Closing = 0\n"
     ]
    }
   ],
   "source": [
    "\n",
    "def Negative_Check(df):\n",
    "    for col in df.columns:\n",
    "        negCount = 0\n",
    "        if pd.api.types.is_numeric_dtype(df[col]):\n",
    "            for val in df[col]:\n",
    "                if val < 0 :\n",
    "                    negCount += 1\n",
    "            print(f\"Count of negative values in {col} = {negCount}\")\n",
    "\n",
    "\n",
    "#############################\n",
    "\n",
    "Negative_Check(FinishedGoodsInventory)"
   ]
  },
  {
   "cell_type": "code",
   "execution_count": 32,
   "id": "43d21fd3",
   "metadata": {},
   "outputs": [
    {
     "name": "stdout",
     "output_type": "stream",
     "text": [
      "Count of negative values in Opening = 0\n",
      "Count of negative values in Produced = 0\n",
      "Count of negative values in Consumed = 0\n",
      "Count of negative values in Closing = 0\n"
     ]
    }
   ],
   "source": [
    "FinishedGoodsInventory['Consumed'] = abs(FinishedGoodsInventory['Consumed'])\n",
    "\n",
    "Negative_Check(FinishedGoodsInventory)"
   ]
  },
  {
   "cell_type": "code",
   "execution_count": 33,
   "id": "d78f8ea7",
   "metadata": {},
   "outputs": [
    {
     "data": {
      "text/plain": [
       "['Actual Production',\n",
       " 'Production&Sales Forecast',\n",
       " 'Sales Orders',\n",
       " 'Finished Goods Inventory',\n",
       " 'Products',\n",
       " 'Machines']"
      ]
     },
     "execution_count": 33,
     "metadata": {},
     "output_type": "execute_result"
    }
   ],
   "source": [
    "sheet_names"
   ]
  },
  {
   "cell_type": "code",
   "execution_count": 34,
   "id": "83c37097",
   "metadata": {},
   "outputs": [
    {
     "data": {
      "text/html": [
       "<div>\n",
       "<style scoped>\n",
       "    .dataframe tbody tr th:only-of-type {\n",
       "        vertical-align: middle;\n",
       "    }\n",
       "\n",
       "    .dataframe tbody tr th {\n",
       "        vertical-align: top;\n",
       "    }\n",
       "\n",
       "    .dataframe thead th {\n",
       "        text-align: right;\n",
       "    }\n",
       "</style>\n",
       "<table border=\"1\" class=\"dataframe\">\n",
       "  <thead>\n",
       "    <tr style=\"text-align: right;\">\n",
       "      <th></th>\n",
       "      <th>Product</th>\n",
       "      <th>Product Type</th>\n",
       "    </tr>\n",
       "  </thead>\n",
       "  <tbody>\n",
       "    <tr>\n",
       "      <th>0</th>\n",
       "      <td>Product 1</td>\n",
       "      <td>Cheddar &amp; Sour</td>\n",
       "    </tr>\n",
       "    <tr>\n",
       "      <th>1</th>\n",
       "      <td>Product 2</td>\n",
       "      <td>Cheddar &amp; Sour</td>\n",
       "    </tr>\n",
       "    <tr>\n",
       "      <th>2</th>\n",
       "      <td>Product 3</td>\n",
       "      <td>Cheddar &amp; Sour</td>\n",
       "    </tr>\n",
       "    <tr>\n",
       "      <th>3</th>\n",
       "      <td>Product 4</td>\n",
       "      <td>Cheddar &amp; Sour</td>\n",
       "    </tr>\n",
       "    <tr>\n",
       "      <th>4</th>\n",
       "      <td>Product 5</td>\n",
       "      <td>Cheddar &amp; Sour</td>\n",
       "    </tr>\n",
       "  </tbody>\n",
       "</table>\n",
       "</div>"
      ],
      "text/plain": [
       "     Product    Product Type\n",
       "0  Product 1  Cheddar & Sour\n",
       "1  Product 2  Cheddar & Sour\n",
       "2  Product 3  Cheddar & Sour\n",
       "3  Product 4  Cheddar & Sour\n",
       "4  Product 5  Cheddar & Sour"
      ]
     },
     "execution_count": 34,
     "metadata": {},
     "output_type": "execute_result"
    }
   ],
   "source": [
    "Products = pd.read_excel(data, sheet_name=sheet_names[4])\n",
    "Products.head()"
   ]
  },
  {
   "cell_type": "code",
   "execution_count": 35,
   "id": "f11932c0",
   "metadata": {},
   "outputs": [
    {
     "data": {
      "text/plain": [
       "Product         object\n",
       "Product Type    object\n",
       "dtype: object"
      ]
     },
     "execution_count": 35,
     "metadata": {},
     "output_type": "execute_result"
    }
   ],
   "source": [
    "Products.dtypes"
   ]
  },
  {
   "cell_type": "code",
   "execution_count": 36,
   "id": "56b115c7",
   "metadata": {},
   "outputs": [
    {
     "data": {
      "text/html": [
       "<div>\n",
       "<style scoped>\n",
       "    .dataframe tbody tr th:only-of-type {\n",
       "        vertical-align: middle;\n",
       "    }\n",
       "\n",
       "    .dataframe tbody tr th {\n",
       "        vertical-align: top;\n",
       "    }\n",
       "\n",
       "    .dataframe thead th {\n",
       "        text-align: right;\n",
       "    }\n",
       "</style>\n",
       "<table border=\"1\" class=\"dataframe\">\n",
       "  <thead>\n",
       "    <tr style=\"text-align: right;\">\n",
       "      <th></th>\n",
       "      <th>Product</th>\n",
       "      <th>Product Type</th>\n",
       "    </tr>\n",
       "  </thead>\n",
       "  <tbody>\n",
       "    <tr>\n",
       "      <th>count</th>\n",
       "      <td>1797</td>\n",
       "      <td>1797</td>\n",
       "    </tr>\n",
       "    <tr>\n",
       "      <th>unique</th>\n",
       "      <td>1797</td>\n",
       "      <td>12</td>\n",
       "    </tr>\n",
       "    <tr>\n",
       "      <th>top</th>\n",
       "      <td>Product 1797</td>\n",
       "      <td>Tangy Cheese</td>\n",
       "    </tr>\n",
       "    <tr>\n",
       "      <th>freq</th>\n",
       "      <td>1</td>\n",
       "      <td>601</td>\n",
       "    </tr>\n",
       "  </tbody>\n",
       "</table>\n",
       "</div>"
      ],
      "text/plain": [
       "             Product  Product Type\n",
       "count           1797          1797\n",
       "unique          1797            12\n",
       "top     Product 1797  Tangy Cheese\n",
       "freq               1           601"
      ]
     },
     "execution_count": 36,
     "metadata": {},
     "output_type": "execute_result"
    }
   ],
   "source": [
    "Products.describe()"
   ]
  },
  {
   "cell_type": "code",
   "execution_count": 37,
   "id": "373df165",
   "metadata": {},
   "outputs": [
    {
     "data": {
      "text/plain": [
       "Product         0\n",
       "Product Type    0\n",
       "dtype: int64"
      ]
     },
     "execution_count": 37,
     "metadata": {},
     "output_type": "execute_result"
    }
   ],
   "source": [
    "Products.isna().sum()"
   ]
  },
  {
   "cell_type": "code",
   "execution_count": 38,
   "id": "2aa66235",
   "metadata": {},
   "outputs": [
    {
     "data": {
      "text/plain": [
       "Product       Product Type      \n",
       "Product 999   Lightly Salted        1\n",
       "Product 1     Cheddar & Sour        1\n",
       "Product 10    Lightly Salted        1\n",
       "Product 100   Cheddar Cheese        1\n",
       "Product 1000  Tangy Cheese          1\n",
       "                                   ..\n",
       "Product 1006  Salt & Vinegar        1\n",
       "Product 1005  Original              1\n",
       "Product 1004  Chicken & Waffles     1\n",
       "Product 1003  Sour Cream & Onion    1\n",
       "Product 1002  Chilli Cheese         1\n",
       "Name: count, Length: 1797, dtype: int64"
      ]
     },
     "execution_count": 38,
     "metadata": {},
     "output_type": "execute_result"
    }
   ],
   "source": [
    "Products.value_counts()"
   ]
  },
  {
   "cell_type": "code",
   "execution_count": 39,
   "id": "d9331a57",
   "metadata": {},
   "outputs": [
    {
     "data": {
      "text/plain": [
       "array(['Cheddar & Sour', 'Lightly Salted', 'Chilli Cheese',\n",
       "       'Tangy Cheese', 'Cheese & jalapeno', 'Chicken & Waffles',\n",
       "       'Cheddar Cheese', 'Sour Cream & Onion', 'Original',\n",
       "       'Salt & Vinegar', 'Spicy Nacho', 'BBQ'], dtype=object)"
      ]
     },
     "execution_count": 39,
     "metadata": {},
     "output_type": "execute_result"
    }
   ],
   "source": [
    "Products['Product Type'].unique()"
   ]
  },
  {
   "cell_type": "code",
   "execution_count": 40,
   "id": "23220824",
   "metadata": {},
   "outputs": [
    {
     "data": {
      "text/plain": [
       "array(['Product 1', 'Product 2', 'Product 3', ..., 'Product 1795',\n",
       "       'Product 1796', 'Product 1797'], shape=(1797,), dtype=object)"
      ]
     },
     "execution_count": 40,
     "metadata": {},
     "output_type": "execute_result"
    }
   ],
   "source": [
    "Products['Product'].unique()"
   ]
  },
  {
   "cell_type": "code",
   "execution_count": 41,
   "id": "58162724",
   "metadata": {},
   "outputs": [
    {
     "data": {
      "text/plain": [
       "(1797, 2)"
      ]
     },
     "execution_count": 41,
     "metadata": {},
     "output_type": "execute_result"
    }
   ],
   "source": [
    "Products.shape"
   ]
  },
  {
   "cell_type": "code",
   "execution_count": 42,
   "id": "de7ae6ea",
   "metadata": {},
   "outputs": [
    {
     "data": {
      "text/html": [
       "<div>\n",
       "<style scoped>\n",
       "    .dataframe tbody tr th:only-of-type {\n",
       "        vertical-align: middle;\n",
       "    }\n",
       "\n",
       "    .dataframe tbody tr th {\n",
       "        vertical-align: top;\n",
       "    }\n",
       "\n",
       "    .dataframe thead th {\n",
       "        text-align: right;\n",
       "    }\n",
       "</style>\n",
       "<table border=\"1\" class=\"dataframe\">\n",
       "  <thead>\n",
       "    <tr style=\"text-align: right;\">\n",
       "      <th></th>\n",
       "      <th>Machines</th>\n",
       "      <th>Machine Type</th>\n",
       "    </tr>\n",
       "  </thead>\n",
       "  <tbody>\n",
       "    <tr>\n",
       "      <th>0</th>\n",
       "      <td>F-1</td>\n",
       "      <td>Forming</td>\n",
       "    </tr>\n",
       "    <tr>\n",
       "      <th>1</th>\n",
       "      <td>F-2</td>\n",
       "      <td>Forming</td>\n",
       "    </tr>\n",
       "    <tr>\n",
       "      <th>2</th>\n",
       "      <td>F-3</td>\n",
       "      <td>Forming</td>\n",
       "    </tr>\n",
       "    <tr>\n",
       "      <th>3</th>\n",
       "      <td>F-4</td>\n",
       "      <td>Forming</td>\n",
       "    </tr>\n",
       "    <tr>\n",
       "      <th>4</th>\n",
       "      <td>F-5</td>\n",
       "      <td>Forming</td>\n",
       "    </tr>\n",
       "  </tbody>\n",
       "</table>\n",
       "</div>"
      ],
      "text/plain": [
       "  Machines Machine Type\n",
       "0      F-1      Forming\n",
       "1      F-2      Forming\n",
       "2      F-3      Forming\n",
       "3      F-4      Forming\n",
       "4      F-5      Forming"
      ]
     },
     "execution_count": 42,
     "metadata": {},
     "output_type": "execute_result"
    }
   ],
   "source": [
    "Machines = pd.read_excel(data, sheet_name=sheet_names[5])\n",
    "Machines.head()"
   ]
  },
  {
   "cell_type": "code",
   "execution_count": 43,
   "id": "019fbe82",
   "metadata": {},
   "outputs": [
    {
     "data": {
      "text/html": [
       "<div>\n",
       "<style scoped>\n",
       "    .dataframe tbody tr th:only-of-type {\n",
       "        vertical-align: middle;\n",
       "    }\n",
       "\n",
       "    .dataframe tbody tr th {\n",
       "        vertical-align: top;\n",
       "    }\n",
       "\n",
       "    .dataframe thead th {\n",
       "        text-align: right;\n",
       "    }\n",
       "</style>\n",
       "<table border=\"1\" class=\"dataframe\">\n",
       "  <thead>\n",
       "    <tr style=\"text-align: right;\">\n",
       "      <th></th>\n",
       "      <th>Machines</th>\n",
       "      <th>Machine Type</th>\n",
       "    </tr>\n",
       "  </thead>\n",
       "  <tbody>\n",
       "    <tr>\n",
       "      <th>count</th>\n",
       "      <td>21</td>\n",
       "      <td>21</td>\n",
       "    </tr>\n",
       "    <tr>\n",
       "      <th>unique</th>\n",
       "      <td>21</td>\n",
       "      <td>4</td>\n",
       "    </tr>\n",
       "    <tr>\n",
       "      <th>top</th>\n",
       "      <td>F-1</td>\n",
       "      <td>Forming</td>\n",
       "    </tr>\n",
       "    <tr>\n",
       "      <th>freq</th>\n",
       "      <td>1</td>\n",
       "      <td>15</td>\n",
       "    </tr>\n",
       "  </tbody>\n",
       "</table>\n",
       "</div>"
      ],
      "text/plain": [
       "       Machines Machine Type\n",
       "count        21           21\n",
       "unique       21            4\n",
       "top         F-1      Forming\n",
       "freq          1           15"
      ]
     },
     "execution_count": 43,
     "metadata": {},
     "output_type": "execute_result"
    }
   ],
   "source": [
    "Machines.describe()"
   ]
  },
  {
   "cell_type": "code",
   "execution_count": 44,
   "id": "53b7f40b",
   "metadata": {},
   "outputs": [
    {
     "data": {
      "text/plain": [
       "(21, 2)"
      ]
     },
     "execution_count": 44,
     "metadata": {},
     "output_type": "execute_result"
    }
   ],
   "source": [
    "Machines.shape"
   ]
  },
  {
   "cell_type": "code",
   "execution_count": 45,
   "id": "d936c43d",
   "metadata": {},
   "outputs": [
    {
     "data": {
      "text/plain": [
       "Machines  Machine Type\n",
       "F-1       Forming         1\n",
       "F-10      Forming         1\n",
       "F-11      Forming         1\n",
       "F-12      Forming         1\n",
       "F-13      Forming         1\n",
       "F-14      Forming         1\n",
       "F-15      Forming         1\n",
       "F-2       Forming         1\n",
       "F-3       Forming         1\n",
       "F-4       Forming         1\n",
       "F-5       Forming         1\n",
       "F-6       Forming         1\n",
       "F-7       Forming         1\n",
       "F-8       Forming         1\n",
       "F-9       Forming         1\n",
       "H-1       Heating         1\n",
       "H-2       Heating         1\n",
       "P-1       Packaging       1\n",
       "P-2       Packaging       1\n",
       "T-1       Topping         1\n",
       "T-2       Topping         1\n",
       "Name: count, dtype: int64"
      ]
     },
     "execution_count": 45,
     "metadata": {},
     "output_type": "execute_result"
    }
   ],
   "source": [
    "Machines.value_counts()"
   ]
  },
  {
   "cell_type": "code",
   "execution_count": 46,
   "id": "7dae3b93",
   "metadata": {},
   "outputs": [
    {
     "data": {
      "text/plain": [
       "Machines        object\n",
       "Machine Type    object\n",
       "dtype: object"
      ]
     },
     "execution_count": 46,
     "metadata": {},
     "output_type": "execute_result"
    }
   ],
   "source": [
    "Machines.dtypes"
   ]
  },
  {
   "cell_type": "code",
   "execution_count": 47,
   "id": "ab764dca",
   "metadata": {},
   "outputs": [
    {
     "data": {
      "text/plain": [
       "['Actual Production',\n",
       " 'Production&Sales Forecast',\n",
       " 'Sales Orders',\n",
       " 'Finished Goods Inventory',\n",
       " 'Products',\n",
       " 'Machines']"
      ]
     },
     "execution_count": 47,
     "metadata": {},
     "output_type": "execute_result"
    }
   ],
   "source": [
    "sheet_names"
   ]
  },
  {
   "cell_type": "code",
   "execution_count": 51,
   "id": "a7e1ff56",
   "metadata": {},
   "outputs": [],
   "source": [
    "dfs = [\n",
    "    ActualProduction, \n",
    "    ForcastUnit,\n",
    "    SalesOrders,\n",
    "    FinishedGoodsInventory,\n",
    "    Products,\n",
    "    Machines\n",
    "]\n",
    "\n",
    "# Save all to a new Excel file\n",
    "with pd.ExcelWriter(\"Cleaned_Challenge_20_Dataset.xlsx\", engine=\"openpyxl\", mode=\"w\") as writer:\n",
    "    for df, name in zip(dfs, sheet_names):\n",
    "        ActualProduction.to_excel(writer, sheet_name=sheet_names[0], index=False)\n",
    "        ForcastUnit.to_excel(writer, sheet_name=sheet_names[1], index=False)\n",
    "        SalesOrders.to_excel(writer, sheet_name=sheet_names[2], index=False)\n",
    "        FinishedGoodsInventory.to_excel(writer, sheet_name=sheet_names[3], index=False)\n",
    "        Products.to_excel(writer, sheet_name=sheet_names[4], index=False)\n",
    "        Machines.to_excel(writer, sheet_name=sheet_names[5], index=False)"
   ]
  },
  {
   "cell_type": "code",
   "execution_count": 52,
   "id": "4b4f81f5",
   "metadata": {},
   "outputs": [],
   "source": [
    "\n",
    "# with pd.ExcelWriter(\"Cleaned_Challenge 20_Dataset2.xlsx\", engine=\"openpyxl\", mode=\"w\", if_sheet_exists='replace') as writer:\n",
    "#     ActualProduction.to_excel(writer, sheet_name=sheet_names[0], index=False)\n",
    "#     ForcastUnit.to_excel(writer, sheet_name=sheet_names[1], index=False)\n",
    "#     SalesOrders.to_excel(writer, sheet_name=sheet_names[2], index=False)\n",
    "#     FinishedGoodsInventory.to_excel(writer, sheet_name=sheet_names[3], index=False)\n",
    "#     Products.to_excel(writer, sheet_name=sheet_names[4], index=False)\n",
    "#     Machines.to_excel(writer, sheet_name=sheet_names[5], index=False)\n"
   ]
  },
  {
   "cell_type": "code",
   "execution_count": null,
   "id": "112b27f3",
   "metadata": {},
   "outputs": [],
   "source": []
  }
 ],
 "metadata": {
  "kernelspec": {
   "display_name": "Python 3",
   "language": "python",
   "name": "python3"
  },
  "language_info": {
   "codemirror_mode": {
    "name": "ipython",
    "version": 3
   },
   "file_extension": ".py",
   "mimetype": "text/x-python",
   "name": "python",
   "nbconvert_exporter": "python",
   "pygments_lexer": "ipython3",
   "version": "3.13.1"
  }
 },
 "nbformat": 4,
 "nbformat_minor": 5
}
